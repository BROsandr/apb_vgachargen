{
 "cells": [
  {
   "cell_type": "code",
   "execution_count": 3,
   "metadata": {},
   "outputs": [],
   "source": [
    "import numpy as np\n",
    "from PIL import ImageFont, Image, ImageDraw\n",
    "from matplotlib import pyplot as plt"
   ]
  },
  {
   "cell_type": "code",
   "execution_count": 4,
   "metadata": {},
   "outputs": [],
   "source": [
    "def getCharacterMatrix(character=' ', display=False, fontName = \"\"):\n",
    "    font = ImageFont.truetype(fontName, 8)\n",
    "    width = 8\n",
    "    height = 16\n",
    "    im = Image.new(\"L\", (width, height))\n",
    "    # im = Image.new(\"1\", (width, height), (0, 0, 0))\n",
    "    draw = ImageDraw.Draw(im)\n",
    "    draw.text((0, 0), character, 1, font=font)\n",
    "\n",
    "    if display:\n",
    "        plt.imshow(im, cmap='gray')\n",
    "        plt.show()\n",
    "\n",
    "    gg = np.array(im).flatten()\n",
    "    st = ''\n",
    "    for i in range(gg.size):\n",
    "        st=st+str(gg[i])\n",
    "    return st\n",
    "\n",
    "def FontToMem(fontName=''):\n",
    "    st = ''\n",
    "    for i in range(0,256,1):\n",
    "        gg = getCharacterMatrix(chr(i),fontName=fontName, display=False)\n",
    "        ## reversing as they wer reversed\n",
    "        st = st + gg[::-1] +'\\n'\n",
    "    with open('./TextModeMemoryFiles/CharacterROM_ASCII.mem', 'w+') as fil:\n",
    "        fil.write(st[:-1])\n",
    "        fil.close()\n",
    "\n",
    "    \n",
    "FontToMem(\"Fonts/brixel-8x8-mono.ttf\")"
   ]
  },
  {
   "cell_type": "code",
   "execution_count": 5,
   "metadata": {},
   "outputs": [
    {
     "data": {
      "image/png": "[encoded data removed]",
      "text/plain": [
       "<Figure size 640x480 with 1 Axes>"
      ]
     },
     "metadata": {},
     "output_type": "display_data"
    },
    {
     "data": {
      "text/plain": [
       "'0100010001001000010100000111100001000100010001000100001000000000'"
      ]
     },
     "execution_count": 5,
     "metadata": {},
     "output_type": "execute_result"
    }
   ],
   "source": [
    "getCharacterMatrix('K', True, 'Fonts/brixel-8x8-mono.ttf')"
   ]
  },
  {
   "cell_type": "code",
   "execution_count": null,
   "metadata": {},
   "outputs": [],
   "source": []
  },
  {
   "cell_type": "code",
   "execution_count": null,
   "metadata": {},
   "outputs": [],
   "source": []
  }
 ],
 "metadata": {
  "interpreter": {
   "hash": "31f2aee4e71d21fbe5cf8b01ff0e069b9275f58929596ceb00d14d90e3e16cd6"
  },
  "kernelspec": {
   "display_name": "Python 3.8.10 64-bit",
   "name": "python3"
  },
  "language_info": {
   "codemirror_mode": {
    "name": "ipython",
    "version": 3
   },
   "file_extension": ".py",
   "mimetype": "text/x-python",
   "name": "python",
   "nbconvert_exporter": "python",
   "pygments_lexer": "ipython3",
   "version": "3.9.13"
  },
  "orig_nbformat": 4
 },
 "nbformat": 4,
 "nbformat_minor": 2
}
